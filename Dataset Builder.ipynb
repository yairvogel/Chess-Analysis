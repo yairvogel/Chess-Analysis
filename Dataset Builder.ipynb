{
 "cells": [
  {
   "cell_type": "code",
   "execution_count": 1,
   "metadata": {},
   "outputs": [],
   "source": [
    "import csv\n",
    "import requests\n",
    "import pandas as pd\n",
    "import numpy as np\n",
    "import datetime as dt\n",
    "import json\n",
    "import re\n",
    "from concurrent.futures import ThreadPoolExecutor, as_completed\n",
    "import requests\n",
    "\n",
    "from bs4 import BeautifulSoup\n",
    "\n",
    "from fetcher import Fetcher"
   ]
  },
  {
   "cell_type": "code",
   "execution_count": 3,
   "metadata": {},
   "outputs": [],
   "source": [
    "PLAYER = 'YVogel'"
   ]
  },
  {
   "cell_type": "code",
   "execution_count": 4,
   "metadata": {},
   "outputs": [],
   "source": [
    "# get country codes and names\n",
    "\n",
    "csv_url = 'https://pkgstore.datahub.io/core/country-list/data_csv/data/d7c9d7cfb42cb69f4422dec222dbbaa8/data_csv.csv'\n",
    "res = requests.get(csv_url)\n",
    "decoded_content = res.content.decode('utf-8')\n",
    "\n",
    "countries_iter = csv.reader(decoded_content.splitlines(), delimiter=',')"
   ]
  },
  {
   "cell_type": "code",
   "execution_count": 4,
   "metadata": {},
   "outputs": [],
   "source": [
    "# create country Fetcher objects\n",
    "\n",
    "next(countries_iter)  # skipping headers\n",
    "country_fetcher = Fetcher('pub/country/')\n",
    "countries = {}\n",
    "for country, code in countries_iter:\n",
    "    countries[country] = country_fetcher.create_child(code)"
   ]
  },
  {
   "cell_type": "code",
   "execution_count": 5,
   "metadata": {},
   "outputs": [],
   "source": [
    "# create how many users per country\n",
    "\n",
    "def fetch_country(country):\n",
    "    fetcher = countries[country]\n",
    "    res = fetcher.fetch_json('players')\n",
    "    if res:\n",
    "        num_of_country_users = len(res['players'])\n",
    "        return country, num_of_country_users\n",
    "\n",
    "user_count = []\n",
    "with ThreadPoolExecutor(10) as pool:\n",
    "    futures = [pool.submit(fetch_country, country) for country in countries]\n",
    "    for future in as_completed(futures):\n",
    "        data = future.result()\n",
    "        if data:\n",
    "            user_count.append(data)"
   ]
  },
  {
   "cell_type": "code",
   "execution_count": 5,
   "metadata": {},
   "outputs": [
    {
     "ename": "NameError",
     "evalue": "name 'user_count' is not defined",
     "output_type": "error",
     "traceback": [
      "\u001b[1;31m---------------------------------------------------------------------------\u001b[0m",
      "\u001b[1;31mNameError\u001b[0m                                 Traceback (most recent call last)",
      "\u001b[1;32m<ipython-input-5-d7838f5a5bf6>\u001b[0m in \u001b[0;36m<module>\u001b[1;34m()\u001b[0m\n\u001b[1;32m----> 1\u001b[1;33m \u001b[0muser_count\u001b[0m \u001b[1;33m=\u001b[0m \u001b[0mpd\u001b[0m\u001b[1;33m.\u001b[0m\u001b[0mDataFrame\u001b[0m\u001b[1;33m(\u001b[0m\u001b[0muser_count\u001b[0m\u001b[1;33m)\u001b[0m\u001b[1;33m\u001b[0m\u001b[0m\n\u001b[0m\u001b[0;32m      2\u001b[0m \u001b[0muser_count\u001b[0m\u001b[1;33m.\u001b[0m\u001b[0mcolumns\u001b[0m \u001b[1;33m=\u001b[0m \u001b[1;33m[\u001b[0m\u001b[1;34m'country'\u001b[0m\u001b[1;33m,\u001b[0m \u001b[1;34m'users'\u001b[0m\u001b[1;33m]\u001b[0m\u001b[1;33m\u001b[0m\u001b[0m\n\u001b[0;32m      3\u001b[0m \u001b[0muser_count\u001b[0m \u001b[1;33m=\u001b[0m \u001b[0muser_count\u001b[0m\u001b[1;33m.\u001b[0m\u001b[0mset_index\u001b[0m\u001b[1;33m(\u001b[0m\u001b[1;34m'country'\u001b[0m\u001b[1;33m)\u001b[0m\u001b[1;33m[\u001b[0m\u001b[1;34m'users'\u001b[0m\u001b[1;33m]\u001b[0m\u001b[1;33m.\u001b[0m\u001b[0mto_frame\u001b[0m\u001b[1;33m(\u001b[0m\u001b[1;33m)\u001b[0m\u001b[1;33m\u001b[0m\u001b[0m\n\u001b[0;32m      4\u001b[0m \u001b[1;33m\u001b[0m\u001b[0m\n\u001b[0;32m      5\u001b[0m \u001b[0muser_count\u001b[0m\u001b[1;33m.\u001b[0m\u001b[0mto_csv\u001b[0m\u001b[1;33m(\u001b[0m\u001b[1;34m'datasets/countries.csv'\u001b[0m\u001b[1;33m)\u001b[0m\u001b[1;33m\u001b[0m\u001b[0m\n",
      "\u001b[1;31mNameError\u001b[0m: name 'user_count' is not defined"
     ]
    }
   ],
   "source": [
    "user_count = pd.DataFrame(user_count)\n",
    "user_count.columns = ['country', 'users']\n",
    "user_count = user_count.set_index('country')['users'].to_frame()\n",
    "\n",
    "user_count.to_csv('datasets/countries.csv')"
   ]
  },
  {
   "cell_type": "code",
   "execution_count": 7,
   "metadata": {},
   "outputs": [],
   "source": [
    "# build the profile table\n",
    "\n",
    "profile_fetcher = Fetcher(path='/pub/player/'+PLAYER)\n",
    "\n",
    "profile_data = [(k, v) for k, v in profile_fetcher.fetch_json().items()]\n",
    "profile_data = pd.DataFrame(profile_data, columns=['field', 'value'])\n",
    "profile_data.set_index('field', inplace=True)\n",
    "\n",
    "profile_data.to_csv('datasets/profile.csv')"
   ]
  },
  {
   "cell_type": "code",
   "execution_count": 8,
   "metadata": {},
   "outputs": [],
   "source": [
    "# stats tree:\n",
    "#     the hierarical structure of this dataset goes most natural with a tree\n",
    "\n",
    "stats_fetcher = profile_fetcher.create_child('stats')\n",
    "\n",
    "stats = stats_fetcher.fetch_json()\n",
    "\n",
    "# with open('datasets/stats.json', 'w') as f:\n",
    "#     json.dump(stats, f)"
   ]
  },
  {
   "cell_type": "markdown",
   "metadata": {},
   "source": [
    "## Creating the game table\n",
    "#### big dimension table to conduct most research on"
   ]
  },
  {
   "cell_type": "code",
   "execution_count": 9,
   "metadata": {},
   "outputs": [],
   "source": [
    "# game table:\n",
    "#     A list of all played games\n",
    "\n",
    "game_fetcher = profile_fetcher.create_child('games')\n",
    "archives = game_fetcher.fetch_json('archives')['archives']\n",
    "\n",
    "games = pd.DataFrame()\n",
    "\n",
    "def fetch_gamelist():\n",
    "    fetcher = game_fetcher.create_child()\n",
    "    thread_games = pd.DataFrame()\n",
    "    while archives:\n",
    "        x = archives.pop()\n",
    "        df = fetcher.fetch_df(x)\n",
    "        thread_games = thread_games.append(df, sort=False)\n",
    "        \n",
    "    return thread_games\n",
    "\n",
    "raw_games = pd.DataFrame()\n",
    "with ThreadPoolExecutor(10) as Pool:\n",
    "    futures = [Pool.submit(fetch_gamelist) for i in range(5)]\n",
    "    for future in as_completed(futures):\n",
    "        data = future.result()\n",
    "        raw_games = raw_games.append(data, sort=False)"
   ]
  },
  {
   "cell_type": "code",
   "execution_count": 11,
   "metadata": {},
   "outputs": [
    {
     "data": {
      "text/plain": [
       "(7681, 12)"
      ]
     },
     "execution_count": 11,
     "metadata": {},
     "output_type": "execute_result"
    }
   ],
   "source": [
    "raw_games.shape"
   ]
  },
  {
   "cell_type": "markdown",
   "metadata": {},
   "source": [
    "##### the games have been collected- and now for some processing"
   ]
  },
  {
   "cell_type": "code",
   "execution_count": 12,
   "metadata": {},
   "outputs": [],
   "source": [
    "games = raw_games.copy()\n",
    "\n",
    "games['end_time'] = games.end_time.apply(dt.datetime.fromtimestamp)\n",
    "\n",
    "games = games.loc[(games.black.apply(type) == dict) & (games.white.apply(type) == dict)]\n",
    "\n",
    "games.sort_values('end_time', inplace=True)\n",
    "\n",
    "games = games.loc[~(games.black.isna() | games.white.isna())]\n",
    "\n",
    "for color in ('black', 'white'):\n",
    "    for category in ('rating', 'username', 'result'):\n",
    "        games[f'{color}_{category}'] = games[color].apply(lambda x: x.get(category))\n",
    "del games['black'], games['white']\n",
    "\n",
    "games = games.loc[games.rules == 'chess']\n",
    "del games['rules']\n",
    "del games['fen']"
   ]
  },
  {
   "cell_type": "code",
   "execution_count": 13,
   "metadata": {},
   "outputs": [],
   "source": [
    "def extract_opening(pgn):\n",
    "    pat = r'ECOUrl \"https:\\/\\/www.chess.com\\/openings\\/([A-Za-z0-9-\\.]+)'\n",
    "    mat = re.search(pat, pgn)\n",
    "    try:\n",
    "        return mat.group(1)\n",
    "    except AttributeError:\n",
    "        return None\n",
    "\n",
    "games['opening'] = games.pgn.apply(extract_opening)"
   ]
  },
  {
   "cell_type": "code",
   "execution_count": 14,
   "metadata": {},
   "outputs": [],
   "source": [
    "def extract_moves(pgn):\n",
    "    pat = '\\{?\\[.+?\\]\\}?'\n",
    "    nums = '\\d\\.{3}'\n",
    "    out = re.sub(pat, '', pgn)\n",
    "    out = re.sub(nums, '', out)\n",
    "    out = re.sub('\\s+', ' ', out)\n",
    "    out = re.sub('\\d{1,2}-\\d{1,2}$', '', out)\n",
    "    return out.strip()\n",
    "\n",
    "games['moves'] = games.pgn.apply(extract_moves)"
   ]
  },
  {
   "cell_type": "code",
   "execution_count": 15,
   "metadata": {},
   "outputs": [],
   "source": [
    "games['color_played'] = np.where(games.white_username == PLAYER, 'White', 'Black')\n",
    "\n",
    "games['rival_rating'] = np.where(games.white_username == PLAYER, games.black_rating, games.white_rating)\n",
    "\n",
    "games['my_rating'] = np.where(games.white_username == PLAYER, games.white_rating, games.black_rating)\n",
    "\n",
    "games['my_result'] = np.where(games.white_username == PLAYER, games.white_result, games.black_result)\n",
    "games['rival_result'] = np.where(games.white_username == PLAYER, games.black_result, games.white_result)"
   ]
  },
  {
   "cell_type": "code",
   "execution_count": 16,
   "metadata": {},
   "outputs": [],
   "source": [
    "inv_res_dict = {\n",
    "    'win': ['win'],\n",
    "    'draw': ['stalemate', 'timevsinsufficient', 'repetition', 'agreed', 'insufficient'],\n",
    "    'loss': ['resigned', 'checkmated', 'timeout', 'abandoned']\n",
    "} \n",
    "res_dict = {}\n",
    "for k in inv_res_dict:\n",
    "    for v in inv_res_dict[k]:\n",
    "        res_dict[v] = k\n",
    "        \n",
    "games['won'] = games.my_result.apply(lambda x: res_dict[x])"
   ]
  },
  {
   "cell_type": "code",
   "execution_count": 17,
   "metadata": {},
   "outputs": [],
   "source": [
    "games['game_id'] = games.url.apply(lambda x: int(re.search(r'\\d+', x).group(0)))\n",
    "\n",
    "games = games.set_index('game_id').sort_index()"
   ]
  },
  {
   "cell_type": "code",
   "execution_count": 18,
   "metadata": {},
   "outputs": [],
   "source": [
    "games.drop(['black_rating', 'black_username', 'black_result', 'white_rating', 'white_username', 'white_result'], axis=1, inplace=True)"
   ]
  },
  {
   "cell_type": "code",
   "execution_count": 19,
   "metadata": {},
   "outputs": [],
   "source": [
    "games['end_time'] = games.end_time.astype(np.datetime64)"
   ]
  },
  {
   "cell_type": "code",
   "execution_count": 25,
   "metadata": {},
   "outputs": [],
   "source": [
    "games.to_csv('datasets/games.csv')"
   ]
  }
 ],
 "metadata": {
  "kernelspec": {
   "display_name": "Python 3",
   "language": "python",
   "name": "python3"
  },
  "language_info": {
   "codemirror_mode": {
    "name": "ipython",
    "version": 3
   },
   "file_extension": ".py",
   "mimetype": "text/x-python",
   "name": "python",
   "nbconvert_exporter": "python",
   "pygments_lexer": "ipython3",
   "version": "3.7.0"
  }
 },
 "nbformat": 4,
 "nbformat_minor": 2
}
